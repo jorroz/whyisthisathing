{
 "cells": [
  {
   "cell_type": "code",
   "execution_count": 1,
   "metadata": {},
   "outputs": [
    {
     "name": "stdout",
     "output_type": "stream",
     "text": [
      "Collecting mySql\n",
      "  Downloading https://files.pythonhosted.org/packages/bf/5f/b574ac9f70811df0540e403309f349a8b9fa1a25d3653824c32e52cc1f28/mysql-0.0.2.tar.gz\n",
      "Collecting mysqlclient (from mySql)\n",
      "\u001b[?25l  Downloading https://files.pythonhosted.org/packages/d0/97/7326248ac8d5049968bf4ec708a5d3d4806e412a42e74160d7f266a3e03a/mysqlclient-1.4.6.tar.gz (85kB)\n",
      "\u001b[K     |████████████████████████████████| 92kB 4.2MB/s eta 0:00:011\n",
      "\u001b[?25hBuilding wheels for collected packages: mySql, mysqlclient\n",
      "  Building wheel for mySql (setup.py) ... \u001b[?25ldone\n",
      "\u001b[?25h  Created wheel for mySql: filename=mysql-0.0.2-cp37-none-any.whl size=1247 sha256=be2688081a005991a32f7fde70ab4d51cd204523d782b9ab0b17033826ca5cb0\n",
      "  Stored in directory: /home/jovyan/.cache/pip/wheels/4f/10/3f/4930effd0320769375b5094e279cb0e4a4c10a7e5811b58f8a\n",
      "  Building wheel for mysqlclient (setup.py) ... \u001b[?25ldone\n",
      "\u001b[?25h  Created wheel for mysqlclient: filename=mysqlclient-1.4.6-cp37-cp37m-linux_x86_64.whl size=100404 sha256=f643d55e16f9f4fdb1ebf1acbef5a983fe07e336d96f757a9a54f369018a4159\n",
      "  Stored in directory: /home/jovyan/.cache/pip/wheels/37/3d/24/5327fa50817a65ed0ee4dc8809e5c39962b0dd5e078ebf4dc1\n",
      "Successfully built mySql mysqlclient\n",
      "Installing collected packages: mysqlclient, mySql\n",
      "Successfully installed mySql-0.0.2 mysqlclient-1.4.6\n"
     ]
    }
   ],
   "source": [
    "!pip install mySql"
   ]
  },
  {
   "cell_type": "code",
   "execution_count": 2,
   "metadata": {},
   "outputs": [
    {
     "name": "stdout",
     "output_type": "stream",
     "text": [
      "Collecting simplejson\n",
      "\u001b[?25l  Downloading https://files.pythonhosted.org/packages/98/87/a7b98aa9256c8843f92878966dc3d8d914c14aad97e2c5ce4798d5743e07/simplejson-3.17.0.tar.gz (83kB)\n",
      "\u001b[K     |████████████████████████████████| 92kB 4.4MB/s eta 0:00:011\n",
      "\u001b[?25hBuilding wheels for collected packages: simplejson\n",
      "  Building wheel for simplejson (setup.py) ... \u001b[?25ldone\n",
      "\u001b[?25h  Created wheel for simplejson: filename=simplejson-3.17.0-cp37-cp37m-linux_x86_64.whl size=124740 sha256=96e02709282359d1f5f8cc1158ab6d08bf6a5e90e073cce20a59452d25e3a575\n",
      "  Stored in directory: /home/jovyan/.cache/pip/wheels/86/c0/83/dcd0339abb2640544bb8e0938aab2d069cef55e5647ce6e097\n",
      "Successfully built simplejson\n",
      "Installing collected packages: simplejson\n",
      "Successfully installed simplejson-3.17.0\n"
     ]
    }
   ],
   "source": [
    "!pip install simplejson"
   ]
  },
  {
   "cell_type": "code",
   "execution_count": 3,
   "metadata": {},
   "outputs": [
    {
     "name": "stdout",
     "output_type": "stream",
     "text": [
      "Collecting pymongo\n",
      "\u001b[?25l  Downloading https://files.pythonhosted.org/packages/23/23/7666537adafcd232c88c156aa9382c859791d79bf12094005e009c2b6a3d/pymongo-3.9.0-cp37-cp37m-manylinux1_x86_64.whl (447kB)\n",
      "\u001b[K     |████████████████████████████████| 450kB 3.5MB/s eta 0:00:01\n",
      "\u001b[?25hInstalling collected packages: pymongo\n",
      "Successfully installed pymongo-3.9.0\n"
     ]
    }
   ],
   "source": [
    "!pip install pymongo"
   ]
  },
  {
   "cell_type": "code",
   "execution_count": null,
   "metadata": {},
   "outputs": [],
   "source": []
  }
 ],
 "metadata": {
  "kernelspec": {
   "display_name": "Python 3",
   "language": "python",
   "name": "python3"
  },
  "language_info": {
   "codemirror_mode": {
    "name": "ipython",
    "version": 3
   },
   "file_extension": ".py",
   "mimetype": "text/x-python",
   "name": "python",
   "nbconvert_exporter": "python",
   "pygments_lexer": "ipython3",
   "version": "3.7.3"
  }
 },
 "nbformat": 4,
 "nbformat_minor": 2
}
